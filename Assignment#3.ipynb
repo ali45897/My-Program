{
 "cells": [
  {
   "cell_type": "code",
   "execution_count": null,
   "id": "6d368982",
   "metadata": {},
   "outputs": [],
   "source": [
    "'''Q1:Write a Python program to print the following string in a specific format(see the output).\n",
    "        Twinkle, twinkle, little star,\n",
    "                How I wonder what you are!\n",
    "                        Up above the world so high,\n",
    "                        Like a diamond in the sky.\n",
    "        Twinkle, twinkle, little star,\n",
    "                How I wonder what you are'''"
   ]
  },
  {
   "cell_type": "code",
   "execution_count": 3,
   "id": "ab8621d3",
   "metadata": {},
   "outputs": [
    {
     "name": "stdout",
     "output_type": "stream",
     "text": [
      "Twinkle, twinkle, little star,\n",
      "\tHow I wonder what you are! \n",
      "\t\tUp above the world so high, \n",
      "\t\tLike a diamond in the sky. \n",
      "Twinkle, twinkle, little star, \n",
      "\tHow I wonder what you are\n"
     ]
    }
   ],
   "source": [
    "print(\"Twinkle, twinkle, little star,\\n\\tHow I wonder what you are! \\n\\t\\tUp above the world so high, \\n\\t\\tLike a diamond in the sky. \\nTwinkle, twinkle, little star, \\n\\tHow I wonder what you are\")"
   ]
  },
  {
   "cell_type": "code",
   "execution_count": null,
   "id": "0accf732",
   "metadata": {},
   "outputs": [],
   "source": [
    "'''Q2:Write a Python program to get the Python version you are using'''"
   ]
  },
  {
   "cell_type": "code",
   "execution_count": 4,
   "id": "827ac292",
   "metadata": {},
   "outputs": [
    {
     "name": "stdout",
     "output_type": "stream",
     "text": [
      "Python version\n",
      "3.8.8 (default, Apr 13 2021, 15:08:03) [MSC v.1916 64 bit (AMD64)]\n",
      "Version info.\n",
      "sys.version_info(major=3, minor=8, micro=8, releaselevel='final', serial=0)\n"
     ]
    }
   ],
   "source": [
    "import sys\n",
    "print(\"Python version\")\n",
    "print(sys.version)\n",
    "print(\"Version info.\")\n",
    "print(sys.version_info)"
   ]
  },
  {
   "cell_type": "code",
   "execution_count": null,
   "id": "e1770adc",
   "metadata": {},
   "outputs": [],
   "source": [
    "'''Q3:Write a Python program to display the current date and time.'''"
   ]
  },
  {
   "cell_type": "code",
   "execution_count": 5,
   "id": "dc78805f",
   "metadata": {},
   "outputs": [
    {
     "name": "stdout",
     "output_type": "stream",
     "text": [
      "Current date and time: \n",
      "2021-10-24 04:25:16\n"
     ]
    }
   ],
   "source": [
    "import datetime\n",
    "now = datetime.datetime.now()\n",
    "print(\"Current date and time: \")\n",
    "print(now.strftime(\"%Y-%m-%d %H:%M:%S\"))"
   ]
  },
  {
   "cell_type": "code",
   "execution_count": null,
   "id": "ac534122",
   "metadata": {},
   "outputs": [],
   "source": [
    "'''Q4:Write a Python program which accepts the radius of a circle from the user and compute the area.'''"
   ]
  },
  {
   "cell_type": "code",
   "execution_count": 7,
   "id": "68f0f00f",
   "metadata": {},
   "outputs": [
    {
     "name": "stdout",
     "output_type": "stream",
     "text": [
      "Enter the radius of the circle: 78\n",
      "The area of the circle with radius 78.0 is: 19113.4497044403\n"
     ]
    }
   ],
   "source": [
    "from math import pi\n",
    "r = float(input(\"Enter the radius of the circle: \"))\n",
    "print(\"The area of the circle with radius \"+ str(r)+\" is: \"+str(pi*r**2))"
   ]
  },
  {
   "cell_type": "code",
   "execution_count": null,
   "id": "75deab73",
   "metadata": {},
   "outputs": [],
   "source": [
    "'''Q5:Write a Python program which accepts the user's first and last name and print them in reverse order with a space between them.'''"
   ]
  },
  {
   "cell_type": "code",
   "execution_count": 8,
   "id": "d827d530",
   "metadata": {},
   "outputs": [
    {
     "name": "stdout",
     "output_type": "stream",
     "text": [
      "Enter your First Name: Maryam\n",
      "Enter your Last Name: Ahmed Ali\n",
      "Ahmed Ali Maryam\n"
     ]
    }
   ],
   "source": [
    "fname = input(\"Enter your First Name: \")\n",
    "lname = input(\"Enter your Last Name: \")\n",
    "print(lname + \" \"+fname)"
   ]
  },
  {
   "cell_type": "code",
   "execution_count": null,
   "id": "8d8c0309",
   "metadata": {},
   "outputs": [],
   "source": [
    "'''Q6: Write a python program which takes two inputs from user and print them addition'''"
   ]
  },
  {
   "cell_type": "code",
   "execution_count": 9,
   "id": "2058aecd",
   "metadata": {},
   "outputs": [
    {
     "name": "stdout",
     "output_type": "stream",
     "text": [
      "Enter first number: 78\n",
      "Enter second number: 90\n",
      "The sum of 78 and 90 is 168.0\n"
     ]
    }
   ],
   "source": [
    "# Store input numbers\n",
    "num1 = input('Enter first number: ')\n",
    "num2 = input('Enter second number: ')\n",
    "\n",
    "# Add two numbers\n",
    "sum = float(num1) + float(num2)\n",
    "\n",
    "# Display the sum\n",
    "print('The sum of {0} and {1} is {2}'.format(num1, num2, sum))"
   ]
  },
  {
   "cell_type": "code",
   "execution_count": null,
   "id": "87d8abdb",
   "metadata": {},
   "outputs": [],
   "source": [
    "'''Q7: Write a program which takes 5 inputs from the user for different subject's marks, total it and generate mark sheet using grades?'''"
   ]
  },
  {
   "cell_type": "code",
   "execution_count": 19,
   "id": "670f7897",
   "metadata": {},
   "outputs": [
    {
     "name": "stdout",
     "output_type": "stream",
     "text": [
      "Enter the marks of first subject: 67\n",
      "Enter the marks of second subject: 45\n",
      "Enter the marks of third subject: 78\n",
      "Enter the marks of fourth subject: 89\n",
      "Enter the marks of fifth subject: 56\n",
      "Grade B\n"
     ]
    }
   ],
   "source": [
    "sub1 = float(input(\"Enter the marks of first subject: \"))\n",
    "sub2 = float(input(\"Enter the marks of second subject: \"))\n",
    "sub3 = float(input(\"Enter the marks of third subject: \"))\n",
    "sub4 = float(input(\"Enter the marks of fourth subject: \"))\n",
    "sub5 = float(input(\"Enter the marks of fifth subject: \"))\n",
    "total = sub1+sub2+sub3+sub4+sub5;\n",
    "percent = (total/500)*100;\n",
    "if percent < 100 and percent >= 80:\n",
    "    print (\"Grade A+\");\n",
    "elif percent < 80 and percent >= 70:\n",
    "    print (\"Grade A\");\n",
    "elif percent < 70 and percent >= 60:\n",
    "    print (\"Grade B\");\n",
    "elif percent < 60 and percent >= 50:\n",
    "    print (\"Grade C\");\n",
    "elif percent < 50 and percent >= 40:\n",
    "    print (\"Grade D\");\n",
    "elif percent < 40 and percent >= 33:\n",
    "    print (\"Grade E\");\n",
    "elif percent < 33 and percent >= 0:\n",
    "    print (\"Grade F\");\n",
    "else:\n",
    "    print (\"Percentage should not be negative!\");"
   ]
  },
  {
   "cell_type": "code",
   "execution_count": null,
   "id": "9422fe02",
   "metadata": {},
   "outputs": [],
   "source": [
    "'''Q8: Write a program which take input from user and identify that the given number is even or odd?'''"
   ]
  },
  {
   "cell_type": "code",
   "execution_count": 20,
   "id": "fd6ea7d5",
   "metadata": {},
   "outputs": [
    {
     "name": "stdout",
     "output_type": "stream",
     "text": [
      "Enter a number: 15\n",
      "15 is Odd\n"
     ]
    }
   ],
   "source": [
    "num = int(input(\"Enter a number: \"))\n",
    "if (num % 2) == 0:\n",
    "   print(\"{0} is Even\".format(num))\n",
    "else:\n",
    "   print(\"{0} is Odd\".format(num))"
   ]
  },
  {
   "cell_type": "code",
   "execution_count": null,
   "id": "edf8d18a",
   "metadata": {},
   "outputs": [],
   "source": [
    "'''Q9: Write a program which print the length of the list?'''"
   ]
  },
  {
   "cell_type": "code",
   "execution_count": 21,
   "id": "c844f876",
   "metadata": {},
   "outputs": [
    {
     "name": "stdout",
     "output_type": "stream",
     "text": [
      "List :  [1, 4, 5, 7, 8]\n",
      "Length of list is :  5\n"
     ]
    }
   ],
   "source": [
    "def list_length(list):\n",
    "    counter=0\n",
    "    for i in list:\n",
    "        counter=counter+1   \n",
    "    return counter\n",
    "\n",
    "# Initializing list \n",
    "li = [ 1, 4, 5, 7, 8 ]\n",
    "  \n",
    "# Printing list\n",
    "print (\"List : \",li)\n",
    " \n",
    "# Printing length of list \n",
    "print (\"Length of list is : \",list_length(li))"
   ]
  },
  {
   "cell_type": "code",
   "execution_count": null,
   "id": "68a97d58",
   "metadata": {},
   "outputs": [],
   "source": [
    "'''Q10: Write a Python program to sum all the numeric items in a list?'''"
   ]
  },
  {
   "cell_type": "code",
   "execution_count": 22,
   "id": "68bbe9c9",
   "metadata": {},
   "outputs": [
    {
     "name": "stdout",
     "output_type": "stream",
     "text": [
      "Sum of all elements in given list:  74\n"
     ]
    }
   ],
   "source": [
    "# Python program to find sum of elements in list\n",
    "total = 0\n",
    " \n",
    "# creating a list\n",
    "list1 = [11, 5, 17, 18, 23]\n",
    " \n",
    "# Iterate each element in list\n",
    "# and add them in variable total\n",
    "for ele in range(0, len(list1)):\n",
    "    total = total + list1[ele]\n",
    " \n",
    "# printing total value\n",
    "print(\"Sum of all elements in given list: \", total)"
   ]
  },
  {
   "cell_type": "code",
   "execution_count": null,
   "id": "c7762e83",
   "metadata": {},
   "outputs": [],
   "source": [
    "'''Q11: Write a python program to get the largest number from a numeric list.'''"
   ]
  },
  {
   "cell_type": "code",
   "execution_count": 23,
   "id": "2b32af62",
   "metadata": {},
   "outputs": [
    {
     "name": "stdout",
     "output_type": "stream",
     "text": [
      "Largest element is:  52\n"
     ]
    }
   ],
   "source": [
    "# list\n",
    "a=[18, 52, 23, 41, 32]\n",
    "\n",
    "# sort the list, default is in ascending order\n",
    "a.sort()\n",
    "\n",
    "# largest number is the last item in the sorted list\n",
    "ln = a[-1]\n",
    "\n",
    "# print the largest number\n",
    "print(\"Largest element is: \",ln)"
   ]
  },
  {
   "cell_type": "code",
   "execution_count": null,
   "id": "53ba270c",
   "metadata": {},
   "outputs": [],
   "source": [
    "'''Q12: Take a list, say for example this one:\n",
    "a = [1,1,2,3,5,8,13,21,34,55,89]\n",
    "Write a program that prints out all the elements of the list that are less than 5.'''"
   ]
  },
  {
   "cell_type": "code",
   "execution_count": 25,
   "id": "f96a437c",
   "metadata": {},
   "outputs": [
    {
     "name": "stdout",
     "output_type": "stream",
     "text": [
      "[1, 1, 2, 3]\n"
     ]
    }
   ],
   "source": [
    "a = [1, 1, 2, 3, 5, 8, 13, 21, 34, 55, 89]\n",
    "b = []\n",
    "user_input = 5\n",
    "[b.append(i) for i in a if i < user_input]\n",
    "print(b)"
   ]
  },
  {
   "cell_type": "code",
   "execution_count": null,
   "id": "61db0716",
   "metadata": {},
   "outputs": [],
   "source": []
  }
 ],
 "metadata": {
  "kernelspec": {
   "display_name": "Python 3",
   "language": "python",
   "name": "python3"
  },
  "language_info": {
   "codemirror_mode": {
    "name": "ipython",
    "version": 3
   },
   "file_extension": ".py",
   "mimetype": "text/x-python",
   "name": "python",
   "nbconvert_exporter": "python",
   "pygments_lexer": "ipython3",
   "version": "3.8.8"
  }
 },
 "nbformat": 4,
 "nbformat_minor": 5
}
